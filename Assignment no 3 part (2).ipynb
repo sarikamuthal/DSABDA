{
 "cells": [
  {
   "cell_type": "code",
   "execution_count": 1,
   "id": "4cf43d87",
   "metadata": {
    "id": "4cf43d87"
   },
   "outputs": [],
   "source": [
    "import pandas as pd\n",
    "import numpy as np\n",
    "import matplotlib.pyplot as plt \n"
   ]
  },
  {
   "cell_type": "code",
   "execution_count": 4,
   "id": "5abb9d2c",
   "metadata": {
    "id": "5abb9d2c"
   },
   "outputs": [],
   "source": [
    "df=pd.read_csv(\"C:/Users/coeco/Downloads/Assign_3_Mall_Customers (1).csv\")"
   ]
  },
  {
   "cell_type": "code",
   "execution_count": 5,
   "id": "c536e6b9",
   "metadata": {
    "id": "c536e6b9"
   },
   "outputs": [],
   "source": [
    "df1=df\n",
    "df2=df1\n",
    "df3=df\n",
    "df4=df"
   ]
  },
  {
   "cell_type": "code",
   "execution_count": 6,
   "id": "cf5df6f0",
   "metadata": {
    "id": "cf5df6f0",
    "outputId": "dad3eafb-bbe3-44ed-9a24-24d0cf10833e"
   },
   "outputs": [
    {
     "data": {
      "text/html": [
       "<div>\n",
       "<style scoped>\n",
       "    .dataframe tbody tr th:only-of-type {\n",
       "        vertical-align: middle;\n",
       "    }\n",
       "\n",
       "    .dataframe tbody tr th {\n",
       "        vertical-align: top;\n",
       "    }\n",
       "\n",
       "    .dataframe thead th {\n",
       "        text-align: right;\n",
       "    }\n",
       "</style>\n",
       "<table border=\"1\" class=\"dataframe\">\n",
       "  <thead>\n",
       "    <tr style=\"text-align: right;\">\n",
       "      <th></th>\n",
       "      <th>CustomerID</th>\n",
       "      <th>Genre</th>\n",
       "      <th>Age Group</th>\n",
       "      <th>Age</th>\n",
       "      <th>Annual Income (k$)</th>\n",
       "      <th>Spending Score (1-100)</th>\n",
       "    </tr>\n",
       "  </thead>\n",
       "  <tbody>\n",
       "    <tr>\n",
       "      <th>0</th>\n",
       "      <td>1</td>\n",
       "      <td>Male</td>\n",
       "      <td>Teen</td>\n",
       "      <td>19</td>\n",
       "      <td>15</td>\n",
       "      <td>39</td>\n",
       "    </tr>\n",
       "    <tr>\n",
       "      <th>1</th>\n",
       "      <td>2</td>\n",
       "      <td>Male</td>\n",
       "      <td>Middle Age</td>\n",
       "      <td>21</td>\n",
       "      <td>15</td>\n",
       "      <td>81</td>\n",
       "    </tr>\n",
       "    <tr>\n",
       "      <th>2</th>\n",
       "      <td>3</td>\n",
       "      <td>Female</td>\n",
       "      <td>Middle Age</td>\n",
       "      <td>20</td>\n",
       "      <td>16</td>\n",
       "      <td>6</td>\n",
       "    </tr>\n",
       "    <tr>\n",
       "      <th>3</th>\n",
       "      <td>4</td>\n",
       "      <td>Female</td>\n",
       "      <td>Middle Age</td>\n",
       "      <td>23</td>\n",
       "      <td>16</td>\n",
       "      <td>77</td>\n",
       "    </tr>\n",
       "    <tr>\n",
       "      <th>4</th>\n",
       "      <td>5</td>\n",
       "      <td>Female</td>\n",
       "      <td>Middle Age</td>\n",
       "      <td>31</td>\n",
       "      <td>17</td>\n",
       "      <td>40</td>\n",
       "    </tr>\n",
       "    <tr>\n",
       "      <th>...</th>\n",
       "      <td>...</td>\n",
       "      <td>...</td>\n",
       "      <td>...</td>\n",
       "      <td>...</td>\n",
       "      <td>...</td>\n",
       "      <td>...</td>\n",
       "    </tr>\n",
       "    <tr>\n",
       "      <th>195</th>\n",
       "      <td>196</td>\n",
       "      <td>Female</td>\n",
       "      <td>Middle Age</td>\n",
       "      <td>35</td>\n",
       "      <td>120</td>\n",
       "      <td>79</td>\n",
       "    </tr>\n",
       "    <tr>\n",
       "      <th>196</th>\n",
       "      <td>197</td>\n",
       "      <td>Female</td>\n",
       "      <td>Elder</td>\n",
       "      <td>45</td>\n",
       "      <td>126</td>\n",
       "      <td>28</td>\n",
       "    </tr>\n",
       "    <tr>\n",
       "      <th>197</th>\n",
       "      <td>198</td>\n",
       "      <td>Male</td>\n",
       "      <td>Middle Age</td>\n",
       "      <td>32</td>\n",
       "      <td>126</td>\n",
       "      <td>74</td>\n",
       "    </tr>\n",
       "    <tr>\n",
       "      <th>198</th>\n",
       "      <td>199</td>\n",
       "      <td>Male</td>\n",
       "      <td>Middle Age</td>\n",
       "      <td>32</td>\n",
       "      <td>137</td>\n",
       "      <td>18</td>\n",
       "    </tr>\n",
       "    <tr>\n",
       "      <th>199</th>\n",
       "      <td>200</td>\n",
       "      <td>Male</td>\n",
       "      <td>Middle Age</td>\n",
       "      <td>30</td>\n",
       "      <td>137</td>\n",
       "      <td>83</td>\n",
       "    </tr>\n",
       "  </tbody>\n",
       "</table>\n",
       "<p>200 rows × 6 columns</p>\n",
       "</div>"
      ],
      "text/plain": [
       "     CustomerID   Genre   Age Group  Age  Annual Income (k$)  \\\n",
       "0             1    Male        Teen   19                  15   \n",
       "1             2    Male  Middle Age   21                  15   \n",
       "2             3  Female  Middle Age   20                  16   \n",
       "3             4  Female  Middle Age   23                  16   \n",
       "4             5  Female  Middle Age   31                  17   \n",
       "..          ...     ...         ...  ...                 ...   \n",
       "195         196  Female  Middle Age   35                 120   \n",
       "196         197  Female       Elder   45                 126   \n",
       "197         198    Male  Middle Age   32                 126   \n",
       "198         199    Male  Middle Age   32                 137   \n",
       "199         200    Male  Middle Age   30                 137   \n",
       "\n",
       "     Spending Score (1-100)  \n",
       "0                        39  \n",
       "1                        81  \n",
       "2                         6  \n",
       "3                        77  \n",
       "4                        40  \n",
       "..                      ...  \n",
       "195                      79  \n",
       "196                      28  \n",
       "197                      74  \n",
       "198                      18  \n",
       "199                      83  \n",
       "\n",
       "[200 rows x 6 columns]"
      ]
     },
     "execution_count": 6,
     "metadata": {},
     "output_type": "execute_result"
    }
   ],
   "source": [
    "df"
   ]
  },
  {
   "cell_type": "code",
   "execution_count": 7,
   "id": "02c6d88f",
   "metadata": {
    "id": "02c6d88f",
    "outputId": "91f11525-d8f5-4b96-c00e-5512cabe9f7a"
   },
   "outputs": [
    {
     "name": "stdout",
     "output_type": "stream",
     "text": [
      "<class 'pandas.core.frame.DataFrame'>\n",
      "RangeIndex: 200 entries, 0 to 199\n",
      "Data columns (total 6 columns):\n",
      " #   Column                  Non-Null Count  Dtype \n",
      "---  ------                  --------------  ----- \n",
      " 0   CustomerID              200 non-null    int64 \n",
      " 1   Genre                   200 non-null    object\n",
      " 2   Age Group               200 non-null    object\n",
      " 3   Age                     200 non-null    int64 \n",
      " 4   Annual Income (k$)      200 non-null    int64 \n",
      " 5   Spending Score (1-100)  200 non-null    int64 \n",
      "dtypes: int64(4), object(2)\n",
      "memory usage: 9.5+ KB\n"
     ]
    }
   ],
   "source": [
    "df.info()"
   ]
  },
  {
   "cell_type": "code",
   "execution_count": 8,
   "id": "1dd78e6a",
   "metadata": {
    "id": "1dd78e6a",
    "outputId": "cd8168c0-0138-41c5-84f7-6b9536572ace"
   },
   "outputs": [
    {
     "data": {
      "text/plain": [
       "(200, 6)"
      ]
     },
     "execution_count": 8,
     "metadata": {},
     "output_type": "execute_result"
    }
   ],
   "source": [
    "df.shape"
   ]
  },
  {
   "cell_type": "code",
   "execution_count": 9,
   "id": "c1d4e462",
   "metadata": {
    "id": "c1d4e462",
    "outputId": "6964325a-f5c6-4e24-dd0a-9c322b0c50b5"
   },
   "outputs": [
    {
     "data": {
      "text/html": [
       "<div>\n",
       "<style scoped>\n",
       "    .dataframe tbody tr th:only-of-type {\n",
       "        vertical-align: middle;\n",
       "    }\n",
       "\n",
       "    .dataframe tbody tr th {\n",
       "        vertical-align: top;\n",
       "    }\n",
       "\n",
       "    .dataframe thead th {\n",
       "        text-align: right;\n",
       "    }\n",
       "</style>\n",
       "<table border=\"1\" class=\"dataframe\">\n",
       "  <thead>\n",
       "    <tr style=\"text-align: right;\">\n",
       "      <th></th>\n",
       "      <th>CustomerID</th>\n",
       "      <th>Genre</th>\n",
       "      <th>Age Group</th>\n",
       "      <th>Age</th>\n",
       "      <th>Annual Income (k$)</th>\n",
       "      <th>Spending Score (1-100)</th>\n",
       "    </tr>\n",
       "  </thead>\n",
       "  <tbody>\n",
       "    <tr>\n",
       "      <th>0</th>\n",
       "      <td>1</td>\n",
       "      <td>Male</td>\n",
       "      <td>Teen</td>\n",
       "      <td>19</td>\n",
       "      <td>15</td>\n",
       "      <td>39</td>\n",
       "    </tr>\n",
       "    <tr>\n",
       "      <th>1</th>\n",
       "      <td>2</td>\n",
       "      <td>Male</td>\n",
       "      <td>Middle Age</td>\n",
       "      <td>21</td>\n",
       "      <td>15</td>\n",
       "      <td>81</td>\n",
       "    </tr>\n",
       "    <tr>\n",
       "      <th>2</th>\n",
       "      <td>3</td>\n",
       "      <td>Female</td>\n",
       "      <td>Middle Age</td>\n",
       "      <td>20</td>\n",
       "      <td>16</td>\n",
       "      <td>6</td>\n",
       "    </tr>\n",
       "    <tr>\n",
       "      <th>3</th>\n",
       "      <td>4</td>\n",
       "      <td>Female</td>\n",
       "      <td>Middle Age</td>\n",
       "      <td>23</td>\n",
       "      <td>16</td>\n",
       "      <td>77</td>\n",
       "    </tr>\n",
       "    <tr>\n",
       "      <th>4</th>\n",
       "      <td>5</td>\n",
       "      <td>Female</td>\n",
       "      <td>Middle Age</td>\n",
       "      <td>31</td>\n",
       "      <td>17</td>\n",
       "      <td>40</td>\n",
       "    </tr>\n",
       "  </tbody>\n",
       "</table>\n",
       "</div>"
      ],
      "text/plain": [
       "   CustomerID   Genre   Age Group  Age  Annual Income (k$)  \\\n",
       "0           1    Male        Teen   19                  15   \n",
       "1           2    Male  Middle Age   21                  15   \n",
       "2           3  Female  Middle Age   20                  16   \n",
       "3           4  Female  Middle Age   23                  16   \n",
       "4           5  Female  Middle Age   31                  17   \n",
       "\n",
       "   Spending Score (1-100)  \n",
       "0                      39  \n",
       "1                      81  \n",
       "2                       6  \n",
       "3                      77  \n",
       "4                      40  "
      ]
     },
     "execution_count": 9,
     "metadata": {},
     "output_type": "execute_result"
    }
   ],
   "source": [
    "df.head()"
   ]
  },
  {
   "cell_type": "code",
   "execution_count": 10,
   "id": "0fe2e323",
   "metadata": {
    "id": "0fe2e323",
    "outputId": "757f2568-00c9-420d-e928-c0d7ff1512ff"
   },
   "outputs": [
    {
     "data": {
      "text/html": [
       "<div>\n",
       "<style scoped>\n",
       "    .dataframe tbody tr th:only-of-type {\n",
       "        vertical-align: middle;\n",
       "    }\n",
       "\n",
       "    .dataframe tbody tr th {\n",
       "        vertical-align: top;\n",
       "    }\n",
       "\n",
       "    .dataframe thead th {\n",
       "        text-align: right;\n",
       "    }\n",
       "</style>\n",
       "<table border=\"1\" class=\"dataframe\">\n",
       "  <thead>\n",
       "    <tr style=\"text-align: right;\">\n",
       "      <th></th>\n",
       "      <th>CustomerID</th>\n",
       "      <th>Genre</th>\n",
       "      <th>Age Group</th>\n",
       "      <th>Age</th>\n",
       "      <th>Annual Income (k$)</th>\n",
       "      <th>Spending Score (1-100)</th>\n",
       "    </tr>\n",
       "  </thead>\n",
       "  <tbody>\n",
       "    <tr>\n",
       "      <th>195</th>\n",
       "      <td>196</td>\n",
       "      <td>Female</td>\n",
       "      <td>Middle Age</td>\n",
       "      <td>35</td>\n",
       "      <td>120</td>\n",
       "      <td>79</td>\n",
       "    </tr>\n",
       "    <tr>\n",
       "      <th>196</th>\n",
       "      <td>197</td>\n",
       "      <td>Female</td>\n",
       "      <td>Elder</td>\n",
       "      <td>45</td>\n",
       "      <td>126</td>\n",
       "      <td>28</td>\n",
       "    </tr>\n",
       "    <tr>\n",
       "      <th>197</th>\n",
       "      <td>198</td>\n",
       "      <td>Male</td>\n",
       "      <td>Middle Age</td>\n",
       "      <td>32</td>\n",
       "      <td>126</td>\n",
       "      <td>74</td>\n",
       "    </tr>\n",
       "    <tr>\n",
       "      <th>198</th>\n",
       "      <td>199</td>\n",
       "      <td>Male</td>\n",
       "      <td>Middle Age</td>\n",
       "      <td>32</td>\n",
       "      <td>137</td>\n",
       "      <td>18</td>\n",
       "    </tr>\n",
       "    <tr>\n",
       "      <th>199</th>\n",
       "      <td>200</td>\n",
       "      <td>Male</td>\n",
       "      <td>Middle Age</td>\n",
       "      <td>30</td>\n",
       "      <td>137</td>\n",
       "      <td>83</td>\n",
       "    </tr>\n",
       "  </tbody>\n",
       "</table>\n",
       "</div>"
      ],
      "text/plain": [
       "     CustomerID   Genre   Age Group  Age  Annual Income (k$)  \\\n",
       "195         196  Female  Middle Age   35                 120   \n",
       "196         197  Female       Elder   45                 126   \n",
       "197         198    Male  Middle Age   32                 126   \n",
       "198         199    Male  Middle Age   32                 137   \n",
       "199         200    Male  Middle Age   30                 137   \n",
       "\n",
       "     Spending Score (1-100)  \n",
       "195                      79  \n",
       "196                      28  \n",
       "197                      74  \n",
       "198                      18  \n",
       "199                      83  "
      ]
     },
     "execution_count": 10,
     "metadata": {},
     "output_type": "execute_result"
    }
   ],
   "source": [
    "df.tail()"
   ]
  },
  {
   "cell_type": "code",
   "execution_count": 11,
   "id": "d1080869",
   "metadata": {
    "id": "d1080869",
    "outputId": "d0e5b115-a6e6-42a6-fbc3-3ab6c75cec75"
   },
   "outputs": [
    {
     "data": {
      "text/html": [
       "<div>\n",
       "<style scoped>\n",
       "    .dataframe tbody tr th:only-of-type {\n",
       "        vertical-align: middle;\n",
       "    }\n",
       "\n",
       "    .dataframe tbody tr th {\n",
       "        vertical-align: top;\n",
       "    }\n",
       "\n",
       "    .dataframe thead th {\n",
       "        text-align: right;\n",
       "    }\n",
       "</style>\n",
       "<table border=\"1\" class=\"dataframe\">\n",
       "  <thead>\n",
       "    <tr style=\"text-align: right;\">\n",
       "      <th></th>\n",
       "      <th>CustomerID</th>\n",
       "      <th>Age</th>\n",
       "      <th>Annual Income (k$)</th>\n",
       "      <th>Spending Score (1-100)</th>\n",
       "    </tr>\n",
       "  </thead>\n",
       "  <tbody>\n",
       "    <tr>\n",
       "      <th>count</th>\n",
       "      <td>200.000000</td>\n",
       "      <td>200.000000</td>\n",
       "      <td>200.000000</td>\n",
       "      <td>200.000000</td>\n",
       "    </tr>\n",
       "    <tr>\n",
       "      <th>mean</th>\n",
       "      <td>100.500000</td>\n",
       "      <td>38.850000</td>\n",
       "      <td>60.560000</td>\n",
       "      <td>50.200000</td>\n",
       "    </tr>\n",
       "    <tr>\n",
       "      <th>std</th>\n",
       "      <td>57.879185</td>\n",
       "      <td>13.969007</td>\n",
       "      <td>26.264721</td>\n",
       "      <td>25.823522</td>\n",
       "    </tr>\n",
       "    <tr>\n",
       "      <th>min</th>\n",
       "      <td>1.000000</td>\n",
       "      <td>18.000000</td>\n",
       "      <td>15.000000</td>\n",
       "      <td>1.000000</td>\n",
       "    </tr>\n",
       "    <tr>\n",
       "      <th>25%</th>\n",
       "      <td>50.750000</td>\n",
       "      <td>28.750000</td>\n",
       "      <td>41.500000</td>\n",
       "      <td>34.750000</td>\n",
       "    </tr>\n",
       "    <tr>\n",
       "      <th>50%</th>\n",
       "      <td>100.500000</td>\n",
       "      <td>36.000000</td>\n",
       "      <td>61.500000</td>\n",
       "      <td>50.000000</td>\n",
       "    </tr>\n",
       "    <tr>\n",
       "      <th>75%</th>\n",
       "      <td>150.250000</td>\n",
       "      <td>49.000000</td>\n",
       "      <td>78.000000</td>\n",
       "      <td>73.000000</td>\n",
       "    </tr>\n",
       "    <tr>\n",
       "      <th>max</th>\n",
       "      <td>200.000000</td>\n",
       "      <td>70.000000</td>\n",
       "      <td>137.000000</td>\n",
       "      <td>99.000000</td>\n",
       "    </tr>\n",
       "  </tbody>\n",
       "</table>\n",
       "</div>"
      ],
      "text/plain": [
       "       CustomerID         Age  Annual Income (k$)  Spending Score (1-100)\n",
       "count  200.000000  200.000000          200.000000              200.000000\n",
       "mean   100.500000   38.850000           60.560000               50.200000\n",
       "std     57.879185   13.969007           26.264721               25.823522\n",
       "min      1.000000   18.000000           15.000000                1.000000\n",
       "25%     50.750000   28.750000           41.500000               34.750000\n",
       "50%    100.500000   36.000000           61.500000               50.000000\n",
       "75%    150.250000   49.000000           78.000000               73.000000\n",
       "max    200.000000   70.000000          137.000000               99.000000"
      ]
     },
     "execution_count": 11,
     "metadata": {},
     "output_type": "execute_result"
    }
   ],
   "source": [
    "df.describe()"
   ]
  },
  {
   "cell_type": "code",
   "execution_count": 12,
   "id": "dcd52d13",
   "metadata": {
    "id": "dcd52d13"
   },
   "outputs": [],
   "source": [
    "import pandas as pd\n",
    "import numpy as np\n",
    "import requests\n",
    "df=pd.read_csv(\"C:/Users/coeco/Downloads/Assign_3_Mall_Customers (1).csv\")"
   ]
  },
  {
   "cell_type": "code",
   "execution_count": 13,
   "id": "b0d17e5e",
   "metadata": {
    "id": "b0d17e5e",
    "outputId": "5b3a7fef-465a-4db0-e782-f1b31f651046"
   },
   "outputs": [
    {
     "data": {
      "text/plain": [
       "CustomerID            100.50\n",
       "Annual Income (k$)     60.56\n",
       "dtype: float64"
      ]
     },
     "execution_count": 13,
     "metadata": {},
     "output_type": "execute_result"
    }
   ],
   "source": [
    "df[['CustomerID','Annual Income (k$)']].mean()"
   ]
  },
  {
   "cell_type": "code",
   "execution_count": 14,
   "id": "e90b6adc",
   "metadata": {
    "id": "e90b6adc",
    "outputId": "9ba0ee41-805f-4995-fd0e-9c385b491f80"
   },
   "outputs": [
    {
     "data": {
      "text/plain": [
       "CustomerID                    1\n",
       "Age Group                 Elder\n",
       "Age                          18\n",
       "Annual Income (k$)           15\n",
       "Spending Score (1-100)        1\n",
       "dtype: object"
      ]
     },
     "execution_count": 14,
     "metadata": {},
     "output_type": "execute_result"
    }
   ],
   "source": [
    "df[['CustomerID','Age Group','Age','Annual Income (k$)','Spending Score (1-100)']].min()"
   ]
  },
  {
   "cell_type": "code",
   "execution_count": 15,
   "id": "130b0a2d",
   "metadata": {
    "id": "130b0a2d",
    "outputId": "5623931b-5ea6-4253-cc8e-073af59b7b4b"
   },
   "outputs": [
    {
     "data": {
      "text/plain": [
       "CustomerID                100.5\n",
       "Spending Score (1-100)     50.0\n",
       "dtype: float64"
      ]
     },
     "execution_count": 15,
     "metadata": {},
     "output_type": "execute_result"
    }
   ],
   "source": [
    "df[['CustomerID','Spending Score (1-100)']].median()"
   ]
  },
  {
   "cell_type": "code",
   "execution_count": 16,
   "id": "0a4c0f0e",
   "metadata": {
    "id": "0a4c0f0e",
    "outputId": "c78ffa54-99f5-4ea3-83b8-495d562900bf"
   },
   "outputs": [
    {
     "data": {
      "text/plain": [
       "CustomerID                 200\n",
       "Age Group                 Teen\n",
       "Age                         70\n",
       "Annual Income (k$)         137\n",
       "Spending Score (1-100)      99\n",
       "dtype: object"
      ]
     },
     "execution_count": 16,
     "metadata": {},
     "output_type": "execute_result"
    }
   ],
   "source": [
    "df[['CustomerID','Age Group','Age','Annual Income (k$)','Spending Score (1-100)']].max()"
   ]
  },
  {
   "cell_type": "code",
   "execution_count": 17,
   "id": "6f3a27dc",
   "metadata": {
    "id": "6f3a27dc",
    "outputId": "79a8e0e7-9e7b-4328-ea92-819ee93aad36"
   },
   "outputs": [
    {
     "data": {
      "text/plain": [
       "Annual Income (k$)        26.264721\n",
       "Spending Score (1-100)    25.823522\n",
       "dtype: float64"
      ]
     },
     "execution_count": 17,
     "metadata": {},
     "output_type": "execute_result"
    }
   ],
   "source": [
    "df[['Annual Income (k$)','Spending Score (1-100)']].std()"
   ]
  },
  {
   "cell_type": "code",
   "execution_count": 18,
   "id": "5533ecbf",
   "metadata": {
    "id": "5533ecbf"
   },
   "outputs": [],
   "source": [
    "df2=df.groupby('Genre')"
   ]
  },
  {
   "cell_type": "code",
   "execution_count": 19,
   "id": "43f3c88e",
   "metadata": {
    "id": "43f3c88e",
    "outputId": "b6b5aaa2-44cf-4580-ad4d-bd9b532614d6"
   },
   "outputs": [
    {
     "data": {
      "text/plain": [
       "<pandas.core.groupby.generic.DataFrameGroupBy object at 0x0000017B3D2DC670>"
      ]
     },
     "execution_count": 19,
     "metadata": {},
     "output_type": "execute_result"
    }
   ],
   "source": [
    "df2"
   ]
  },
  {
   "cell_type": "code",
   "execution_count": 20,
   "id": "f915ab77",
   "metadata": {
    "id": "f915ab77",
    "outputId": "e6844a89-ce9f-4db4-bdf0-bb53f8230abd"
   },
   "outputs": [
    {
     "name": "stdout",
     "output_type": "stream",
     "text": [
      "Female\n",
      "     CustomerID   Genre   Age Group  Age  Annual Income (k$)  \\\n",
      "2             3  Female  Middle Age   20                  16   \n",
      "3             4  Female  Middle Age   23                  16   \n",
      "4             5  Female  Middle Age   31                  17   \n",
      "5             6  Female  Middle Age   22                  17   \n",
      "6             7  Female  Middle Age   35                  18   \n",
      "..          ...     ...         ...  ...                 ...   \n",
      "191         192  Female  Middle Age   32                 103   \n",
      "193         194  Female  Middle Age   38                 113   \n",
      "194         195  Female       Elder   47                 120   \n",
      "195         196  Female  Middle Age   35                 120   \n",
      "196         197  Female       Elder   45                 126   \n",
      "\n",
      "     Spending Score (1-100)  \n",
      "2                         6  \n",
      "3                        77  \n",
      "4                        40  \n",
      "5                        76  \n",
      "6                         6  \n",
      "..                      ...  \n",
      "191                      69  \n",
      "193                      91  \n",
      "194                      16  \n",
      "195                      79  \n",
      "196                      28  \n",
      "\n",
      "[112 rows x 6 columns]\n",
      "Male\n",
      "     CustomerID Genre   Age Group  Age  Annual Income (k$)  \\\n",
      "0             1  Male        Teen   19                  15   \n",
      "1             2  Male  Middle Age   21                  15   \n",
      "8             9  Male       Elder   64                  19   \n",
      "10           11  Male       Elder   67                  19   \n",
      "14           15  Male  Middle Age   37                  20   \n",
      "..          ...   ...         ...  ...                 ...   \n",
      "187         188  Male  Middle Age   28                 101   \n",
      "192         193  Male  Middle Age   33                 113   \n",
      "197         198  Male  Middle Age   32                 126   \n",
      "198         199  Male  Middle Age   32                 137   \n",
      "199         200  Male  Middle Age   30                 137   \n",
      "\n",
      "     Spending Score (1-100)  \n",
      "0                        39  \n",
      "1                        81  \n",
      "8                         3  \n",
      "10                       14  \n",
      "14                       13  \n",
      "..                      ...  \n",
      "187                      68  \n",
      "192                       8  \n",
      "197                      74  \n",
      "198                      18  \n",
      "199                      83  \n",
      "\n",
      "[88 rows x 6 columns]\n"
     ]
    }
   ],
   "source": [
    "for Gender,Gender_f in df2:\n",
    "    print(Gender)\n",
    "    print(Gender_f)"
   ]
  },
  {
   "cell_type": "code",
   "execution_count": 21,
   "id": "62be058c",
   "metadata": {
    "id": "62be058c",
    "outputId": "894ebfe7-683a-47c6-a69d-3f13a6c82315"
   },
   "outputs": [
    {
     "data": {
      "text/html": [
       "<div>\n",
       "<style scoped>\n",
       "    .dataframe tbody tr th:only-of-type {\n",
       "        vertical-align: middle;\n",
       "    }\n",
       "\n",
       "    .dataframe tbody tr th {\n",
       "        vertical-align: top;\n",
       "    }\n",
       "\n",
       "    .dataframe thead th {\n",
       "        text-align: right;\n",
       "    }\n",
       "</style>\n",
       "<table border=\"1\" class=\"dataframe\">\n",
       "  <thead>\n",
       "    <tr style=\"text-align: right;\">\n",
       "      <th></th>\n",
       "      <th>CustomerID</th>\n",
       "      <th>Genre</th>\n",
       "      <th>Age Group</th>\n",
       "      <th>Age</th>\n",
       "      <th>Annual Income (k$)</th>\n",
       "      <th>Spending Score (1-100)</th>\n",
       "    </tr>\n",
       "  </thead>\n",
       "  <tbody>\n",
       "    <tr>\n",
       "      <th>2</th>\n",
       "      <td>3</td>\n",
       "      <td>Female</td>\n",
       "      <td>Middle Age</td>\n",
       "      <td>20</td>\n",
       "      <td>16</td>\n",
       "      <td>6</td>\n",
       "    </tr>\n",
       "    <tr>\n",
       "      <th>3</th>\n",
       "      <td>4</td>\n",
       "      <td>Female</td>\n",
       "      <td>Middle Age</td>\n",
       "      <td>23</td>\n",
       "      <td>16</td>\n",
       "      <td>77</td>\n",
       "    </tr>\n",
       "    <tr>\n",
       "      <th>4</th>\n",
       "      <td>5</td>\n",
       "      <td>Female</td>\n",
       "      <td>Middle Age</td>\n",
       "      <td>31</td>\n",
       "      <td>17</td>\n",
       "      <td>40</td>\n",
       "    </tr>\n",
       "    <tr>\n",
       "      <th>5</th>\n",
       "      <td>6</td>\n",
       "      <td>Female</td>\n",
       "      <td>Middle Age</td>\n",
       "      <td>22</td>\n",
       "      <td>17</td>\n",
       "      <td>76</td>\n",
       "    </tr>\n",
       "    <tr>\n",
       "      <th>6</th>\n",
       "      <td>7</td>\n",
       "      <td>Female</td>\n",
       "      <td>Middle Age</td>\n",
       "      <td>35</td>\n",
       "      <td>18</td>\n",
       "      <td>6</td>\n",
       "    </tr>\n",
       "    <tr>\n",
       "      <th>...</th>\n",
       "      <td>...</td>\n",
       "      <td>...</td>\n",
       "      <td>...</td>\n",
       "      <td>...</td>\n",
       "      <td>...</td>\n",
       "      <td>...</td>\n",
       "    </tr>\n",
       "    <tr>\n",
       "      <th>191</th>\n",
       "      <td>192</td>\n",
       "      <td>Female</td>\n",
       "      <td>Middle Age</td>\n",
       "      <td>32</td>\n",
       "      <td>103</td>\n",
       "      <td>69</td>\n",
       "    </tr>\n",
       "    <tr>\n",
       "      <th>193</th>\n",
       "      <td>194</td>\n",
       "      <td>Female</td>\n",
       "      <td>Middle Age</td>\n",
       "      <td>38</td>\n",
       "      <td>113</td>\n",
       "      <td>91</td>\n",
       "    </tr>\n",
       "    <tr>\n",
       "      <th>194</th>\n",
       "      <td>195</td>\n",
       "      <td>Female</td>\n",
       "      <td>Elder</td>\n",
       "      <td>47</td>\n",
       "      <td>120</td>\n",
       "      <td>16</td>\n",
       "    </tr>\n",
       "    <tr>\n",
       "      <th>195</th>\n",
       "      <td>196</td>\n",
       "      <td>Female</td>\n",
       "      <td>Middle Age</td>\n",
       "      <td>35</td>\n",
       "      <td>120</td>\n",
       "      <td>79</td>\n",
       "    </tr>\n",
       "    <tr>\n",
       "      <th>196</th>\n",
       "      <td>197</td>\n",
       "      <td>Female</td>\n",
       "      <td>Elder</td>\n",
       "      <td>45</td>\n",
       "      <td>126</td>\n",
       "      <td>28</td>\n",
       "    </tr>\n",
       "  </tbody>\n",
       "</table>\n",
       "<p>112 rows × 6 columns</p>\n",
       "</div>"
      ],
      "text/plain": [
       "     CustomerID   Genre   Age Group  Age  Annual Income (k$)  \\\n",
       "2             3  Female  Middle Age   20                  16   \n",
       "3             4  Female  Middle Age   23                  16   \n",
       "4             5  Female  Middle Age   31                  17   \n",
       "5             6  Female  Middle Age   22                  17   \n",
       "6             7  Female  Middle Age   35                  18   \n",
       "..          ...     ...         ...  ...                 ...   \n",
       "191         192  Female  Middle Age   32                 103   \n",
       "193         194  Female  Middle Age   38                 113   \n",
       "194         195  Female       Elder   47                 120   \n",
       "195         196  Female  Middle Age   35                 120   \n",
       "196         197  Female       Elder   45                 126   \n",
       "\n",
       "     Spending Score (1-100)  \n",
       "2                         6  \n",
       "3                        77  \n",
       "4                        40  \n",
       "5                        76  \n",
       "6                         6  \n",
       "..                      ...  \n",
       "191                      69  \n",
       "193                      91  \n",
       "194                      16  \n",
       "195                      79  \n",
       "196                      28  \n",
       "\n",
       "[112 rows x 6 columns]"
      ]
     },
     "execution_count": 21,
     "metadata": {},
     "output_type": "execute_result"
    }
   ],
   "source": [
    "df2.get_group('Female')"
   ]
  },
  {
   "cell_type": "code",
   "execution_count": 22,
   "id": "6e269f8d",
   "metadata": {
    "id": "6e269f8d",
    "outputId": "130e2b1e-fef8-4eff-ac1e-85e91502d602"
   },
   "outputs": [
    {
     "data": {
      "text/html": [
       "<div>\n",
       "<style scoped>\n",
       "    .dataframe tbody tr th:only-of-type {\n",
       "        vertical-align: middle;\n",
       "    }\n",
       "\n",
       "    .dataframe tbody tr th {\n",
       "        vertical-align: top;\n",
       "    }\n",
       "\n",
       "    .dataframe thead th {\n",
       "        text-align: right;\n",
       "    }\n",
       "</style>\n",
       "<table border=\"1\" class=\"dataframe\">\n",
       "  <thead>\n",
       "    <tr style=\"text-align: right;\">\n",
       "      <th></th>\n",
       "      <th>CustomerID</th>\n",
       "      <th>Genre</th>\n",
       "      <th>Age Group</th>\n",
       "      <th>Age</th>\n",
       "      <th>Annual Income (k$)</th>\n",
       "      <th>Spending Score (1-100)</th>\n",
       "    </tr>\n",
       "  </thead>\n",
       "  <tbody>\n",
       "    <tr>\n",
       "      <th>0</th>\n",
       "      <td>1</td>\n",
       "      <td>Male</td>\n",
       "      <td>Teen</td>\n",
       "      <td>19</td>\n",
       "      <td>15</td>\n",
       "      <td>39</td>\n",
       "    </tr>\n",
       "    <tr>\n",
       "      <th>1</th>\n",
       "      <td>2</td>\n",
       "      <td>Male</td>\n",
       "      <td>Middle Age</td>\n",
       "      <td>21</td>\n",
       "      <td>15</td>\n",
       "      <td>81</td>\n",
       "    </tr>\n",
       "    <tr>\n",
       "      <th>8</th>\n",
       "      <td>9</td>\n",
       "      <td>Male</td>\n",
       "      <td>Elder</td>\n",
       "      <td>64</td>\n",
       "      <td>19</td>\n",
       "      <td>3</td>\n",
       "    </tr>\n",
       "    <tr>\n",
       "      <th>10</th>\n",
       "      <td>11</td>\n",
       "      <td>Male</td>\n",
       "      <td>Elder</td>\n",
       "      <td>67</td>\n",
       "      <td>19</td>\n",
       "      <td>14</td>\n",
       "    </tr>\n",
       "    <tr>\n",
       "      <th>14</th>\n",
       "      <td>15</td>\n",
       "      <td>Male</td>\n",
       "      <td>Middle Age</td>\n",
       "      <td>37</td>\n",
       "      <td>20</td>\n",
       "      <td>13</td>\n",
       "    </tr>\n",
       "    <tr>\n",
       "      <th>...</th>\n",
       "      <td>...</td>\n",
       "      <td>...</td>\n",
       "      <td>...</td>\n",
       "      <td>...</td>\n",
       "      <td>...</td>\n",
       "      <td>...</td>\n",
       "    </tr>\n",
       "    <tr>\n",
       "      <th>187</th>\n",
       "      <td>188</td>\n",
       "      <td>Male</td>\n",
       "      <td>Middle Age</td>\n",
       "      <td>28</td>\n",
       "      <td>101</td>\n",
       "      <td>68</td>\n",
       "    </tr>\n",
       "    <tr>\n",
       "      <th>192</th>\n",
       "      <td>193</td>\n",
       "      <td>Male</td>\n",
       "      <td>Middle Age</td>\n",
       "      <td>33</td>\n",
       "      <td>113</td>\n",
       "      <td>8</td>\n",
       "    </tr>\n",
       "    <tr>\n",
       "      <th>197</th>\n",
       "      <td>198</td>\n",
       "      <td>Male</td>\n",
       "      <td>Middle Age</td>\n",
       "      <td>32</td>\n",
       "      <td>126</td>\n",
       "      <td>74</td>\n",
       "    </tr>\n",
       "    <tr>\n",
       "      <th>198</th>\n",
       "      <td>199</td>\n",
       "      <td>Male</td>\n",
       "      <td>Middle Age</td>\n",
       "      <td>32</td>\n",
       "      <td>137</td>\n",
       "      <td>18</td>\n",
       "    </tr>\n",
       "    <tr>\n",
       "      <th>199</th>\n",
       "      <td>200</td>\n",
       "      <td>Male</td>\n",
       "      <td>Middle Age</td>\n",
       "      <td>30</td>\n",
       "      <td>137</td>\n",
       "      <td>83</td>\n",
       "    </tr>\n",
       "  </tbody>\n",
       "</table>\n",
       "<p>88 rows × 6 columns</p>\n",
       "</div>"
      ],
      "text/plain": [
       "     CustomerID Genre   Age Group  Age  Annual Income (k$)  \\\n",
       "0             1  Male        Teen   19                  15   \n",
       "1             2  Male  Middle Age   21                  15   \n",
       "8             9  Male       Elder   64                  19   \n",
       "10           11  Male       Elder   67                  19   \n",
       "14           15  Male  Middle Age   37                  20   \n",
       "..          ...   ...         ...  ...                 ...   \n",
       "187         188  Male  Middle Age   28                 101   \n",
       "192         193  Male  Middle Age   33                 113   \n",
       "197         198  Male  Middle Age   32                 126   \n",
       "198         199  Male  Middle Age   32                 137   \n",
       "199         200  Male  Middle Age   30                 137   \n",
       "\n",
       "     Spending Score (1-100)  \n",
       "0                        39  \n",
       "1                        81  \n",
       "8                         3  \n",
       "10                       14  \n",
       "14                       13  \n",
       "..                      ...  \n",
       "187                      68  \n",
       "192                       8  \n",
       "197                      74  \n",
       "198                      18  \n",
       "199                      83  \n",
       "\n",
       "[88 rows x 6 columns]"
      ]
     },
     "execution_count": 22,
     "metadata": {},
     "output_type": "execute_result"
    }
   ],
   "source": [
    "df2.get_group('Male')"
   ]
  },
  {
   "cell_type": "code",
   "execution_count": 23,
   "id": "5edd89ba",
   "metadata": {
    "id": "5edd89ba",
    "outputId": "8726e51b-2f0b-4887-8cf5-c9995aa79f19"
   },
   "outputs": [
    {
     "data": {
      "text/html": [
       "<div>\n",
       "<style scoped>\n",
       "    .dataframe tbody tr th:only-of-type {\n",
       "        vertical-align: middle;\n",
       "    }\n",
       "\n",
       "    .dataframe tbody tr th {\n",
       "        vertical-align: top;\n",
       "    }\n",
       "\n",
       "    .dataframe thead th {\n",
       "        text-align: right;\n",
       "    }\n",
       "</style>\n",
       "<table border=\"1\" class=\"dataframe\">\n",
       "  <thead>\n",
       "    <tr style=\"text-align: right;\">\n",
       "      <th></th>\n",
       "      <th>CustomerID</th>\n",
       "      <th>Genre</th>\n",
       "      <th>Age Group</th>\n",
       "      <th>Age</th>\n",
       "      <th>Annual Income (k$)</th>\n",
       "      <th>Spending Score (1-100)</th>\n",
       "    </tr>\n",
       "    <tr>\n",
       "      <th>Genre</th>\n",
       "      <th></th>\n",
       "      <th></th>\n",
       "      <th></th>\n",
       "      <th></th>\n",
       "      <th></th>\n",
       "      <th></th>\n",
       "    </tr>\n",
       "  </thead>\n",
       "  <tbody>\n",
       "    <tr>\n",
       "      <th>Female</th>\n",
       "      <td>197</td>\n",
       "      <td>Female</td>\n",
       "      <td>Teen</td>\n",
       "      <td>68</td>\n",
       "      <td>126</td>\n",
       "      <td>99</td>\n",
       "    </tr>\n",
       "    <tr>\n",
       "      <th>Male</th>\n",
       "      <td>200</td>\n",
       "      <td>Male</td>\n",
       "      <td>Teen</td>\n",
       "      <td>70</td>\n",
       "      <td>137</td>\n",
       "      <td>97</td>\n",
       "    </tr>\n",
       "  </tbody>\n",
       "</table>\n",
       "</div>"
      ],
      "text/plain": [
       "        CustomerID   Genre Age Group  Age  Annual Income (k$)  \\\n",
       "Genre                                                           \n",
       "Female         197  Female      Teen   68                 126   \n",
       "Male           200    Male      Teen   70                 137   \n",
       "\n",
       "        Spending Score (1-100)  \n",
       "Genre                           \n",
       "Female                      99  \n",
       "Male                        97  "
      ]
     },
     "execution_count": 23,
     "metadata": {},
     "output_type": "execute_result"
    }
   ],
   "source": [
    "df2[['CustomerID','Genre','Age Group','Age','Annual Income (k$)','Spending Score (1-100)']].max()"
   ]
  },
  {
   "cell_type": "code",
   "execution_count": 24,
   "id": "64af1317",
   "metadata": {
    "id": "64af1317",
    "outputId": "930277dc-ba80-47e2-ab50-bd3f1ba67e60"
   },
   "outputs": [
    {
     "data": {
      "text/html": [
       "<div>\n",
       "<style scoped>\n",
       "    .dataframe tbody tr th:only-of-type {\n",
       "        vertical-align: middle;\n",
       "    }\n",
       "\n",
       "    .dataframe tbody tr th {\n",
       "        vertical-align: top;\n",
       "    }\n",
       "\n",
       "    .dataframe thead th {\n",
       "        text-align: right;\n",
       "    }\n",
       "</style>\n",
       "<table border=\"1\" class=\"dataframe\">\n",
       "  <thead>\n",
       "    <tr style=\"text-align: right;\">\n",
       "      <th></th>\n",
       "      <th>CustomerID</th>\n",
       "      <th>Genre</th>\n",
       "      <th>Age Group</th>\n",
       "      <th>Age</th>\n",
       "      <th>Annual Income (k$)</th>\n",
       "      <th>Spending Score (1-100)</th>\n",
       "    </tr>\n",
       "    <tr>\n",
       "      <th>Genre</th>\n",
       "      <th></th>\n",
       "      <th></th>\n",
       "      <th></th>\n",
       "      <th></th>\n",
       "      <th></th>\n",
       "      <th></th>\n",
       "    </tr>\n",
       "  </thead>\n",
       "  <tbody>\n",
       "    <tr>\n",
       "      <th>Female</th>\n",
       "      <td>3</td>\n",
       "      <td>Female</td>\n",
       "      <td>Elder</td>\n",
       "      <td>18</td>\n",
       "      <td>16</td>\n",
       "      <td>5</td>\n",
       "    </tr>\n",
       "    <tr>\n",
       "      <th>Male</th>\n",
       "      <td>1</td>\n",
       "      <td>Male</td>\n",
       "      <td>Elder</td>\n",
       "      <td>18</td>\n",
       "      <td>15</td>\n",
       "      <td>1</td>\n",
       "    </tr>\n",
       "  </tbody>\n",
       "</table>\n",
       "</div>"
      ],
      "text/plain": [
       "        CustomerID   Genre Age Group  Age  Annual Income (k$)  \\\n",
       "Genre                                                           \n",
       "Female           3  Female     Elder   18                  16   \n",
       "Male             1    Male     Elder   18                  15   \n",
       "\n",
       "        Spending Score (1-100)  \n",
       "Genre                           \n",
       "Female                       5  \n",
       "Male                         1  "
      ]
     },
     "execution_count": 24,
     "metadata": {},
     "output_type": "execute_result"
    }
   ],
   "source": [
    "df2[['CustomerID','Genre','Age Group','Age','Annual Income (k$)','Spending Score (1-100)']].min()"
   ]
  },
  {
   "cell_type": "code",
   "execution_count": 25,
   "id": "2768daf5",
   "metadata": {
    "id": "2768daf5",
    "outputId": "56550876-0c37-41f6-94e6-df9b6d773492"
   },
   "outputs": [
    {
     "data": {
      "text/html": [
       "<div>\n",
       "<style scoped>\n",
       "    .dataframe tbody tr th:only-of-type {\n",
       "        vertical-align: middle;\n",
       "    }\n",
       "\n",
       "    .dataframe tbody tr th {\n",
       "        vertical-align: top;\n",
       "    }\n",
       "\n",
       "    .dataframe thead th {\n",
       "        text-align: right;\n",
       "    }\n",
       "</style>\n",
       "<table border=\"1\" class=\"dataframe\">\n",
       "  <thead>\n",
       "    <tr style=\"text-align: right;\">\n",
       "      <th></th>\n",
       "      <th>CustomerID</th>\n",
       "      <th>Age</th>\n",
       "      <th>Annual Income (k$)</th>\n",
       "      <th>Spending Score (1-100)</th>\n",
       "    </tr>\n",
       "    <tr>\n",
       "      <th>Genre</th>\n",
       "      <th></th>\n",
       "      <th></th>\n",
       "      <th></th>\n",
       "      <th></th>\n",
       "    </tr>\n",
       "  </thead>\n",
       "  <tbody>\n",
       "    <tr>\n",
       "      <th>Female</th>\n",
       "      <td>97.562500</td>\n",
       "      <td>38.098214</td>\n",
       "      <td>59.250000</td>\n",
       "      <td>51.526786</td>\n",
       "    </tr>\n",
       "    <tr>\n",
       "      <th>Male</th>\n",
       "      <td>104.238636</td>\n",
       "      <td>39.806818</td>\n",
       "      <td>62.227273</td>\n",
       "      <td>48.511364</td>\n",
       "    </tr>\n",
       "  </tbody>\n",
       "</table>\n",
       "</div>"
      ],
      "text/plain": [
       "        CustomerID        Age  Annual Income (k$)  Spending Score (1-100)\n",
       "Genre                                                                    \n",
       "Female   97.562500  38.098214           59.250000               51.526786\n",
       "Male    104.238636  39.806818           62.227273               48.511364"
      ]
     },
     "execution_count": 25,
     "metadata": {},
     "output_type": "execute_result"
    }
   ],
   "source": [
    "df2[['CustomerID','Genre','Age Group','Age','Annual Income (k$)','Spending Score (1-100)']].mean()"
   ]
  },
  {
   "cell_type": "code",
   "execution_count": 26,
   "id": "6dd4b774",
   "metadata": {
    "id": "6dd4b774",
    "outputId": "83243b53-0f94-4636-ad31-62f399ee1fb6"
   },
   "outputs": [
    {
     "data": {
      "text/html": [
       "<div>\n",
       "<style scoped>\n",
       "    .dataframe tbody tr th:only-of-type {\n",
       "        vertical-align: middle;\n",
       "    }\n",
       "\n",
       "    .dataframe tbody tr th {\n",
       "        vertical-align: top;\n",
       "    }\n",
       "\n",
       "    .dataframe thead th {\n",
       "        text-align: right;\n",
       "    }\n",
       "</style>\n",
       "<table border=\"1\" class=\"dataframe\">\n",
       "  <thead>\n",
       "    <tr style=\"text-align: right;\">\n",
       "      <th></th>\n",
       "      <th>CustomerID</th>\n",
       "      <th>Age</th>\n",
       "      <th>Annual Income (k$)</th>\n",
       "      <th>Spending Score (1-100)</th>\n",
       "    </tr>\n",
       "    <tr>\n",
       "      <th>Genre</th>\n",
       "      <th></th>\n",
       "      <th></th>\n",
       "      <th></th>\n",
       "      <th></th>\n",
       "    </tr>\n",
       "  </thead>\n",
       "  <tbody>\n",
       "    <tr>\n",
       "      <th>Female</th>\n",
       "      <td>58.276412</td>\n",
       "      <td>12.644095</td>\n",
       "      <td>26.011952</td>\n",
       "      <td>24.11495</td>\n",
       "    </tr>\n",
       "    <tr>\n",
       "      <th>Male</th>\n",
       "      <td>57.483830</td>\n",
       "      <td>15.514812</td>\n",
       "      <td>26.638373</td>\n",
       "      <td>27.89677</td>\n",
       "    </tr>\n",
       "  </tbody>\n",
       "</table>\n",
       "</div>"
      ],
      "text/plain": [
       "        CustomerID        Age  Annual Income (k$)  Spending Score (1-100)\n",
       "Genre                                                                    \n",
       "Female   58.276412  12.644095           26.011952                24.11495\n",
       "Male     57.483830  15.514812           26.638373                27.89677"
      ]
     },
     "execution_count": 26,
     "metadata": {},
     "output_type": "execute_result"
    }
   ],
   "source": [
    "df2[['CustomerID','Genre','Age Group','Age','Annual Income (k$)','Spending Score (1-100)']].std()"
   ]
  },
  {
   "cell_type": "code",
   "execution_count": 27,
   "id": "0665061d",
   "metadata": {
    "id": "0665061d"
   },
   "outputs": [],
   "source": [
    "a=np.percentile(df3['Age'],50)"
   ]
  },
  {
   "cell_type": "code",
   "execution_count": 28,
   "id": "4656b1a0",
   "metadata": {
    "id": "4656b1a0",
    "outputId": "83a667e5-47ba-4c1b-9d5b-990f19bead7b"
   },
   "outputs": [
    {
     "data": {
      "text/plain": [
       "36.0"
      ]
     },
     "execution_count": 28,
     "metadata": {},
     "output_type": "execute_result"
    }
   ],
   "source": [
    "a"
   ]
  },
  {
   "cell_type": "code",
   "execution_count": null,
   "id": "724e267c",
   "metadata": {
    "id": "724e267c"
   },
   "outputs": [],
   "source": [
    "b=np.percentile(df3['Age'],100)"
   ]
  },
  {
   "cell_type": "code",
   "execution_count": null,
   "id": "bdb3d4a7",
   "metadata": {
    "id": "bdb3d4a7",
    "outputId": "c07cb6ef-5be9-42c9-fe45-3f6e29fed21e"
   },
   "outputs": [
    {
     "data": {
      "text/plain": [
       "70.0"
      ]
     },
     "execution_count": 32,
     "metadata": {},
     "output_type": "execute_result"
    }
   ],
   "source": [
    "b"
   ]
  },
  {
   "cell_type": "code",
   "execution_count": null,
   "id": "20b12e3e",
   "metadata": {
    "id": "20b12e3e"
   },
   "outputs": [],
   "source": [
    "a=np.percentile(df3['Annual Income (k$)'],50)"
   ]
  },
  {
   "cell_type": "code",
   "execution_count": null,
   "id": "a3236481",
   "metadata": {
    "id": "a3236481",
    "outputId": "69989cfe-1070-4143-f576-9cf8ea1649d6"
   },
   "outputs": [
    {
     "data": {
      "text/plain": [
       "61.5"
      ]
     },
     "execution_count": 34,
     "metadata": {},
     "output_type": "execute_result"
    }
   ],
   "source": [
    "a"
   ]
  },
  {
   "cell_type": "code",
   "execution_count": null,
   "id": "049dbcf6",
   "metadata": {
    "id": "049dbcf6"
   },
   "outputs": [],
   "source": [
    "b=np.percentile(df3['Annual Income (k$)'],60)"
   ]
  },
  {
   "cell_type": "code",
   "execution_count": null,
   "id": "ac441aab",
   "metadata": {
    "id": "ac441aab",
    "outputId": "063b2219-bbe4-4c84-a714-b8b8ee3a320e"
   },
   "outputs": [
    {
     "data": {
      "text/plain": [
       "67.0"
      ]
     },
     "execution_count": 36,
     "metadata": {},
     "output_type": "execute_result"
    }
   ],
   "source": [
    "b"
   ]
  },
  {
   "cell_type": "code",
   "execution_count": null,
   "id": "b1586c26",
   "metadata": {
    "id": "b1586c26"
   },
   "outputs": [],
   "source": [
    "a=np.percentile(df3['CustomerID'],50)"
   ]
  },
  {
   "cell_type": "code",
   "execution_count": null,
   "id": "ce7e4eec",
   "metadata": {
    "id": "ce7e4eec",
    "outputId": "50169a8d-a52e-450d-b57f-9aaceb466f18"
   },
   "outputs": [
    {
     "data": {
      "text/plain": [
       "100.5"
      ]
     },
     "execution_count": 38,
     "metadata": {},
     "output_type": "execute_result"
    }
   ],
   "source": [
    "a"
   ]
  },
  {
   "cell_type": "code",
   "execution_count": null,
   "id": "c420aa15",
   "metadata": {
    "id": "c420aa15"
   },
   "outputs": [],
   "source": [
    "a=np.percentile(df3['CustomerID'],80)"
   ]
  },
  {
   "cell_type": "code",
   "execution_count": null,
   "id": "dc96fdf1",
   "metadata": {
    "id": "dc96fdf1",
    "outputId": "c78d8e23-b8f3-43ea-89ca-ed7ae2e25c21"
   },
   "outputs": [
    {
     "data": {
      "text/plain": [
       "160.20000000000002"
      ]
     },
     "execution_count": 40,
     "metadata": {},
     "output_type": "execute_result"
    }
   ],
   "source": [
    "a"
   ]
  },
  {
   "cell_type": "code",
   "execution_count": null,
   "id": "2d88404c",
   "metadata": {
    "id": "2d88404c"
   },
   "outputs": [],
   "source": [
    "a=np.percentile(df3['Spending Score (1-100)'],50)"
   ]
  },
  {
   "cell_type": "code",
   "execution_count": null,
   "id": "d4c15884",
   "metadata": {
    "id": "d4c15884",
    "outputId": "35f71eba-1648-479a-c74f-091028eaf605"
   },
   "outputs": [
    {
     "data": {
      "text/plain": [
       "50.0"
      ]
     },
     "execution_count": 42,
     "metadata": {},
     "output_type": "execute_result"
    }
   ],
   "source": [
    "a"
   ]
  },
  {
   "cell_type": "code",
   "execution_count": null,
   "id": "37df2d34",
   "metadata": {
    "id": "37df2d34"
   },
   "outputs": [],
   "source": [
    "a=np.percentile(df3['Spending Score (1-100)'],40)"
   ]
  },
  {
   "cell_type": "code",
   "execution_count": null,
   "id": "f378a9f4",
   "metadata": {
    "id": "f378a9f4",
    "outputId": "2b502e67-8020-417d-9258-87eeccd75fcd"
   },
   "outputs": [
    {
     "data": {
      "text/plain": [
       "45.60000000000001"
      ]
     },
     "execution_count": 44,
     "metadata": {},
     "output_type": "execute_result"
    }
   ],
   "source": [
    "a"
   ]
  },
  {
   "cell_type": "code",
   "execution_count": null,
   "id": "f6bcae27",
   "metadata": {
    "id": "f6bcae27"
   },
   "outputs": [],
   "source": []
  }
 ],
 "metadata": {
  "colab": {
   "provenance": []
  },
  "kernelspec": {
   "display_name": "Python 3 (ipykernel)",
   "language": "python",
   "name": "python3"
  },
  "language_info": {
   "codemirror_mode": {
    "name": "ipython",
    "version": 3
   },
   "file_extension": ".py",
   "mimetype": "text/x-python",
   "name": "python",
   "nbconvert_exporter": "python",
   "pygments_lexer": "ipython3",
   "version": "3.9.13"
  }
 },
 "nbformat": 4,
 "nbformat_minor": 5
}
